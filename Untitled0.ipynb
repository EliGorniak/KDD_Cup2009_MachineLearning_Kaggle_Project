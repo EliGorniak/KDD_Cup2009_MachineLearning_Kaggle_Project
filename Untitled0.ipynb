{
  "nbformat": 4,
  "nbformat_minor": 0,
  "metadata": {
    "colab": {
      "name": "Untitled0.ipynb",
      "provenance": [],
      "toc_visible": true,
      "authorship_tag": "ABX9TyPSEAjvrHgJOQGPaKOD/QR4",
      "include_colab_link": true
    },
    "kernelspec": {
      "name": "python3",
      "display_name": "Python 3"
    }
  },
  "cells": [
    {
      "cell_type": "markdown",
      "metadata": {
        "id": "view-in-github",
        "colab_type": "text"
      },
      "source": [
        "<a href=\"https://colab.research.google.com/github/EliGorniak/KDD_Cup2009_MachineLearning_Kaggle_Project/blob/main/Untitled0.ipynb\" target=\"_parent\"><img src=\"https://colab.research.google.com/assets/colab-badge.svg\" alt=\"Open In Colab\"/></a>"
      ]
    },
    {
      "cell_type": "markdown",
      "metadata": {
        "id": "5csDveftMHaH"
      },
      "source": [
        "# Estudo de Caso: KDD Cup 2009"
      ]
    },
    {
      "cell_type": "markdown",
      "metadata": {
        "id": "r0SMDjhkMK57"
      },
      "source": [
        "A Administração de Relacionamento com o Consumidor é um elemento-chave das estratégias modernas de marketing. A maneira mais prática de adquirir conhecimento sobre consumidores é produzindo pontuações. Uma pontuação é a saída de um modelo e serve como avaliação de todas as instâncias de uma variável-alvo que se pretenda explicar. Ferramentas que produzem pontuações permitem projetar informações quantificáveis em uma dada população. A pontuação é calculada usando variáveis de entrada que descrevem as instâncias. As pontuações são então usadas pelo sistema de informação, por exemplo, para personalizar o relacionamento com o consumidor.\r\n",
        "\r\n",
        "Em 2009, a conferência Knowledge Discovery and Data Mining (KDD) lançou um desafio envolvendo aprendizagem de máquina. Ela disponibilizou dados de consumidores da empresa de telecomunicações francesa Orange, que deveriam ser utilizados para a construção de um modelo capaz de prever três comportamentos do consumidor. A planilha fornecida tem 50000 instâncias e 230 variáveis, sendo as primeiras 190 variáveis numéricas e as demais 40 categóricas. As variáveis de saída do modelo eram o cancelamento da conta ('churn'), a tendência de usar novos produtos e serviços ('appetency') e a propensão para comprar upgrades ou adicionais com maior margem de lucro quando apresentados (upselling), fornecidos de forma binária (-1 para *não*, 1 para *sim*).\r\n",
        "\r\n",
        "O trabalho apresentado aqui envolve a criação de um modelo para predição de *churn*, *appetency* e *upselling* com base nos dados fornecidos dos clientes da Orange. O critério para avaliação do modelo será a métrica AUC, que dimensiona o trade-off entre taxa de falsos positivos e taxa de verdadeiros positivos: quanto mais próximo de 1, menor o trade-off e melhor o modelo.\r\n",
        "\r\n",
        "Detalhes sobre a competição: https://www.kdd.org/kdd-cup/view/kdd-cup-2009"
      ]
    },
    {
      "cell_type": "markdown",
      "metadata": {
        "id": "cevxxZDJMPqZ"
      },
      "source": [
        "# Etapa 1: Modelando 'churn' (cancelamento da conta)"
      ]
    },
    {
      "cell_type": "markdown",
      "metadata": {
        "id": "e9R3_DfCMYfl"
      },
      "source": [
        "### Importando as dependências"
      ]
    },
    {
      "cell_type": "code",
      "metadata": {
        "id": "PtM8Xe6EJRNv"
      },
      "source": [
        ""
      ],
      "execution_count": null,
      "outputs": []
    }
  ]
}