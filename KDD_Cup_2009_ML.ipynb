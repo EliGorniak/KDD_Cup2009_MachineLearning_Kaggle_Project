{
  "nbformat": 4,
  "nbformat_minor": 0,
  "metadata": {
    "colab": {
      "name": "KDD_Cup_2009_ML.ipynb",
      "provenance": [],
      "collapsed_sections": [],
      "toc_visible": true,
      "authorship_tag": "ABX9TyNsCRY+1BJbYDkKGTNCeVvD",
      "include_colab_link": true
    },
    "kernelspec": {
      "name": "python3",
      "display_name": "Python 3"
    }
  },
  "cells": [
    {
      "cell_type": "markdown",
      "metadata": {
        "id": "view-in-github",
        "colab_type": "text"
      },
      "source": [
        "<a href=\"https://colab.research.google.com/github/EliGorniak/KDD_Cup2009_MachineLearning_Kaggle_Project/blob/main/KDD_Cup_2009_ML.ipynb\" target=\"_parent\"><img src=\"https://colab.research.google.com/assets/colab-badge.svg\" alt=\"Open In Colab\"/></a>"
      ]
    },
    {
      "cell_type": "markdown",
      "metadata": {
        "id": "5csDveftMHaH"
      },
      "source": [
        "# Estudo de caso: KDD Cup 2009"
      ]
    },
    {
      "cell_type": "markdown",
      "metadata": {
        "id": "r0SMDjhkMK57"
      },
      "source": [
        "A Administração de Relacionamento com o Consumidor é um elemento-chave das estratégias modernas de marketing. A maneira mais prática de adquirir conhecimento sobre consumidores é produzindo pontuações. Uma pontuação é a saída de um modelo e serve como avaliação de todas as instâncias de uma variável-alvo que se pretenda explicar. Ferramentas que produzem pontuações permitem projetar informações quantificáveis em uma dada população. A pontuação é calculada usando variáveis de entrada que descrevem as instâncias. As pontuações são então usadas pelo sistema de informação, por exemplo, para personalizar o relacionamento com o consumidor.\r\n",
        "\r\n",
        "Em 2009, a conferência Knowledge Discovery and Data Mining (KDD) lançou um desafio envolvendo aprendizagem de máquina. Ela disponibilizou dados de consumidores da empresa de telecomunicações francesa Orange, que deveriam ser utilizados para a construção de um modelo capaz de prever três comportamentos do consumidor. A planilha fornecida tem 50000 instâncias e 230 variáveis, sendo as primeiras 190 variáveis numéricas e as demais 40 categóricas. As variáveis de saída do modelo eram o cancelamento da conta ('churn'), a tendência de usar novos produtos e serviços ('appetency') e a propensão para comprar upgrades ou adicionais com maior margem de lucro quando apresentados (upselling), fornecidos de forma binária (-1 para *não*, 1 para *sim*).\r\n",
        "\r\n",
        "O trabalho apresentado aqui envolve a criação de um modelo para predição de *churn*, *appetency* e *upselling* com base nos dados fornecidos dos clientes da Orange. O critério para avaliação do modelo será a métrica AUC, que dimensiona o trade-off entre taxa de falsos positivos e taxa de verdadeiros positivos: quanto mais próximo de 1, menor o trade-off e melhor o modelo.\r\n",
        "\r\n",
        "Detalhes sobre a competição: https://www.kdd.org/kdd-cup/view/kdd-cup-2009"
      ]
    },
    {
      "cell_type": "markdown",
      "metadata": {
        "id": "cevxxZDJMPqZ"
      },
      "source": [
        "# Etapa 1: Modelando 'churn' (cancelamento da conta)"
      ]
    },
    {
      "cell_type": "markdown",
      "metadata": {
        "id": "e9R3_DfCMYfl"
      },
      "source": [
        "### a. Importando as dependências"
      ]
    },
    {
      "cell_type": "code",
      "metadata": {
        "id": "PtM8Xe6EJRNv"
      },
      "source": [
        "import pandas as pd\r\n",
        "import numpy as np\r\n",
        "from sklearn.ensemble import ExtraTreesClassifier, RandomForestClassifier, GradientBoostingClassifier # algoritmos de classificação\r\n",
        "from matplotlib import pyplot as plt # plotagem de gráficos\r\n",
        "from sklearn.metrics import  roc_auc_score # AUC será a métrica de avaliação exigida na competição\r\n",
        "from sklearn.model_selection import train_test_split, cross_val_score, GridSearchCV # testar a performance dos modelos"
      ],
      "execution_count": 5,
      "outputs": []
    },
    {
      "cell_type": "markdown",
      "metadata": {
        "id": "Pm3xVB98nR5B"
      },
      "source": [
        "### b. Carregando os dados"
      ]
    },
    {
      "cell_type": "code",
      "metadata": {
        "id": "s7kFug8iAlFK"
      },
      "source": [
        "# definindo as variáveis que vão receber os dados\r\n",
        "features = pd.read_csv('/orange_small_train.data', sep = '\\t', na_filter = False) # sep é o separador, \\t é uma tabulação, na_filter = False não vai remover os atributos com valores faltantes\r\n",
        "outcome = pd.read_csv('/orange_small_train_churn.labels', header= None) # outcome são as respostas, header = None significa que não há um header para dar nome pras colunas"
      ],
      "execution_count": 7,
      "outputs": []
    },
    {
      "cell_type": "code",
      "metadata": {
        "id": "GWUZ3qxHDW_Q",
        "colab": {
          "base_uri": "https://localhost:8080/"
        },
        "outputId": "3ea94c17-a30e-440e-fd75-3d16b1d23ca6"
      },
      "source": [
        "# verificando o tamanho do dataset\r\n",
        "features.shape"
      ],
      "execution_count": 8,
      "outputs": [
        {
          "output_type": "execute_result",
          "data": {
            "text/plain": [
              "(50000, 230)"
            ]
          },
          "metadata": {
            "tags": []
          },
          "execution_count": 8
        }
      ]
    },
    {
      "cell_type": "code",
      "metadata": {
        "colab": {
          "base_uri": "https://localhost:8080/",
          "height": 253
        },
        "id": "B02yhSg3HlhR",
        "outputId": "0b66296e-9e4d-4336-f7c0-9fa106054cc2"
      },
      "source": [
        "features.head()"
      ],
      "execution_count": 10,
      "outputs": [
        {
          "output_type": "execute_result",
          "data": {
            "text/html": [
              "<div>\n",
              "<style scoped>\n",
              "    .dataframe tbody tr th:only-of-type {\n",
              "        vertical-align: middle;\n",
              "    }\n",
              "\n",
              "    .dataframe tbody tr th {\n",
              "        vertical-align: top;\n",
              "    }\n",
              "\n",
              "    .dataframe thead th {\n",
              "        text-align: right;\n",
              "    }\n",
              "</style>\n",
              "<table border=\"1\" class=\"dataframe\">\n",
              "  <thead>\n",
              "    <tr style=\"text-align: right;\">\n",
              "      <th></th>\n",
              "      <th>Var1</th>\n",
              "      <th>Var2</th>\n",
              "      <th>Var3</th>\n",
              "      <th>Var4</th>\n",
              "      <th>Var5</th>\n",
              "      <th>Var6</th>\n",
              "      <th>Var7</th>\n",
              "      <th>Var8</th>\n",
              "      <th>Var9</th>\n",
              "      <th>Var10</th>\n",
              "      <th>Var11</th>\n",
              "      <th>Var12</th>\n",
              "      <th>Var13</th>\n",
              "      <th>Var14</th>\n",
              "      <th>Var15</th>\n",
              "      <th>Var16</th>\n",
              "      <th>Var17</th>\n",
              "      <th>Var18</th>\n",
              "      <th>Var19</th>\n",
              "      <th>Var20</th>\n",
              "      <th>Var21</th>\n",
              "      <th>Var22</th>\n",
              "      <th>Var23</th>\n",
              "      <th>Var24</th>\n",
              "      <th>Var25</th>\n",
              "      <th>Var26</th>\n",
              "      <th>Var27</th>\n",
              "      <th>Var28</th>\n",
              "      <th>Var29</th>\n",
              "      <th>Var30</th>\n",
              "      <th>Var31</th>\n",
              "      <th>Var32</th>\n",
              "      <th>Var33</th>\n",
              "      <th>Var34</th>\n",
              "      <th>Var35</th>\n",
              "      <th>Var36</th>\n",
              "      <th>Var37</th>\n",
              "      <th>Var38</th>\n",
              "      <th>Var39</th>\n",
              "      <th>Var40</th>\n",
              "      <th>...</th>\n",
              "      <th>Var191</th>\n",
              "      <th>Var192</th>\n",
              "      <th>Var193</th>\n",
              "      <th>Var194</th>\n",
              "      <th>Var195</th>\n",
              "      <th>Var196</th>\n",
              "      <th>Var197</th>\n",
              "      <th>Var198</th>\n",
              "      <th>Var199</th>\n",
              "      <th>Var200</th>\n",
              "      <th>Var201</th>\n",
              "      <th>Var202</th>\n",
              "      <th>Var203</th>\n",
              "      <th>Var204</th>\n",
              "      <th>Var205</th>\n",
              "      <th>Var206</th>\n",
              "      <th>Var207</th>\n",
              "      <th>Var208</th>\n",
              "      <th>Var209</th>\n",
              "      <th>Var210</th>\n",
              "      <th>Var211</th>\n",
              "      <th>Var212</th>\n",
              "      <th>Var213</th>\n",
              "      <th>Var214</th>\n",
              "      <th>Var215</th>\n",
              "      <th>Var216</th>\n",
              "      <th>Var217</th>\n",
              "      <th>Var218</th>\n",
              "      <th>Var219</th>\n",
              "      <th>Var220</th>\n",
              "      <th>Var221</th>\n",
              "      <th>Var222</th>\n",
              "      <th>Var223</th>\n",
              "      <th>Var224</th>\n",
              "      <th>Var225</th>\n",
              "      <th>Var226</th>\n",
              "      <th>Var227</th>\n",
              "      <th>Var228</th>\n",
              "      <th>Var229</th>\n",
              "      <th>Var230</th>\n",
              "    </tr>\n",
              "  </thead>\n",
              "  <tbody>\n",
              "    <tr>\n",
              "      <th>0</th>\n",
              "      <td></td>\n",
              "      <td></td>\n",
              "      <td></td>\n",
              "      <td></td>\n",
              "      <td></td>\n",
              "      <td>1526</td>\n",
              "      <td>7</td>\n",
              "      <td></td>\n",
              "      <td></td>\n",
              "      <td></td>\n",
              "      <td></td>\n",
              "      <td></td>\n",
              "      <td>184</td>\n",
              "      <td></td>\n",
              "      <td></td>\n",
              "      <td></td>\n",
              "      <td></td>\n",
              "      <td></td>\n",
              "      <td></td>\n",
              "      <td></td>\n",
              "      <td>464</td>\n",
              "      <td>580</td>\n",
              "      <td></td>\n",
              "      <td>14</td>\n",
              "      <td>128</td>\n",
              "      <td></td>\n",
              "      <td></td>\n",
              "      <td>166.56</td>\n",
              "      <td></td>\n",
              "      <td></td>\n",
              "      <td></td>\n",
              "      <td></td>\n",
              "      <td></td>\n",
              "      <td></td>\n",
              "      <td>0</td>\n",
              "      <td></td>\n",
              "      <td></td>\n",
              "      <td>3570</td>\n",
              "      <td></td>\n",
              "      <td></td>\n",
              "      <td>...</td>\n",
              "      <td></td>\n",
              "      <td>bZkvyxLkBI</td>\n",
              "      <td>RO12</td>\n",
              "      <td></td>\n",
              "      <td>taul</td>\n",
              "      <td>1K8T</td>\n",
              "      <td>lK27</td>\n",
              "      <td>ka_ns41</td>\n",
              "      <td>nQUveAzAF7</td>\n",
              "      <td></td>\n",
              "      <td></td>\n",
              "      <td>dXGu</td>\n",
              "      <td>9_Y1</td>\n",
              "      <td>FbIm</td>\n",
              "      <td>VpdQ</td>\n",
              "      <td>haYg</td>\n",
              "      <td>me75fM6ugJ</td>\n",
              "      <td>kIsH</td>\n",
              "      <td></td>\n",
              "      <td>uKAI</td>\n",
              "      <td>L84s</td>\n",
              "      <td>XfqtO3UdzaXh_</td>\n",
              "      <td></td>\n",
              "      <td></td>\n",
              "      <td></td>\n",
              "      <td>XTbPUYD</td>\n",
              "      <td>sH5Z</td>\n",
              "      <td>cJvF</td>\n",
              "      <td>FzaX</td>\n",
              "      <td>1YVfGrO</td>\n",
              "      <td>oslk</td>\n",
              "      <td>fXVEsaq</td>\n",
              "      <td>jySVZNlOJy</td>\n",
              "      <td></td>\n",
              "      <td></td>\n",
              "      <td>xb3V</td>\n",
              "      <td>RAYp</td>\n",
              "      <td>F2FyR07IdsN7I</td>\n",
              "      <td></td>\n",
              "      <td></td>\n",
              "    </tr>\n",
              "    <tr>\n",
              "      <th>1</th>\n",
              "      <td></td>\n",
              "      <td></td>\n",
              "      <td></td>\n",
              "      <td></td>\n",
              "      <td></td>\n",
              "      <td>525</td>\n",
              "      <td>0</td>\n",
              "      <td></td>\n",
              "      <td></td>\n",
              "      <td></td>\n",
              "      <td></td>\n",
              "      <td></td>\n",
              "      <td>0</td>\n",
              "      <td></td>\n",
              "      <td></td>\n",
              "      <td></td>\n",
              "      <td></td>\n",
              "      <td></td>\n",
              "      <td></td>\n",
              "      <td></td>\n",
              "      <td>168</td>\n",
              "      <td>210</td>\n",
              "      <td></td>\n",
              "      <td>2</td>\n",
              "      <td>24</td>\n",
              "      <td></td>\n",
              "      <td></td>\n",
              "      <td>353.52</td>\n",
              "      <td></td>\n",
              "      <td></td>\n",
              "      <td></td>\n",
              "      <td></td>\n",
              "      <td></td>\n",
              "      <td></td>\n",
              "      <td>0</td>\n",
              "      <td></td>\n",
              "      <td></td>\n",
              "      <td>4764966</td>\n",
              "      <td></td>\n",
              "      <td></td>\n",
              "      <td>...</td>\n",
              "      <td></td>\n",
              "      <td>CEat0G8rTN</td>\n",
              "      <td>RO12</td>\n",
              "      <td></td>\n",
              "      <td>taul</td>\n",
              "      <td>1K8T</td>\n",
              "      <td>2Ix5</td>\n",
              "      <td>qEdASpP</td>\n",
              "      <td>y2LIM01bE1</td>\n",
              "      <td></td>\n",
              "      <td></td>\n",
              "      <td>lg1t</td>\n",
              "      <td>9_Y1</td>\n",
              "      <td>k13i</td>\n",
              "      <td>sJzTlal</td>\n",
              "      <td>zm5i</td>\n",
              "      <td>me75fM6ugJ</td>\n",
              "      <td>kIsH</td>\n",
              "      <td></td>\n",
              "      <td>uKAI</td>\n",
              "      <td>L84s</td>\n",
              "      <td>NhsEn4L</td>\n",
              "      <td></td>\n",
              "      <td></td>\n",
              "      <td></td>\n",
              "      <td>kZJyVg2</td>\n",
              "      <td></td>\n",
              "      <td></td>\n",
              "      <td>FzaX</td>\n",
              "      <td>0AJo2f2</td>\n",
              "      <td>oslk</td>\n",
              "      <td>2Kb5FSF</td>\n",
              "      <td>LM8l689qOp</td>\n",
              "      <td></td>\n",
              "      <td></td>\n",
              "      <td>fKCe</td>\n",
              "      <td>RAYp</td>\n",
              "      <td>F2FyR07IdsN7I</td>\n",
              "      <td></td>\n",
              "      <td></td>\n",
              "    </tr>\n",
              "    <tr>\n",
              "      <th>2</th>\n",
              "      <td></td>\n",
              "      <td></td>\n",
              "      <td></td>\n",
              "      <td></td>\n",
              "      <td></td>\n",
              "      <td>5236</td>\n",
              "      <td>7</td>\n",
              "      <td></td>\n",
              "      <td></td>\n",
              "      <td></td>\n",
              "      <td></td>\n",
              "      <td></td>\n",
              "      <td>904</td>\n",
              "      <td></td>\n",
              "      <td></td>\n",
              "      <td></td>\n",
              "      <td></td>\n",
              "      <td></td>\n",
              "      <td></td>\n",
              "      <td></td>\n",
              "      <td>1212</td>\n",
              "      <td>1515</td>\n",
              "      <td></td>\n",
              "      <td>26</td>\n",
              "      <td>816</td>\n",
              "      <td></td>\n",
              "      <td></td>\n",
              "      <td>220.08</td>\n",
              "      <td></td>\n",
              "      <td></td>\n",
              "      <td></td>\n",
              "      <td></td>\n",
              "      <td></td>\n",
              "      <td></td>\n",
              "      <td>0</td>\n",
              "      <td></td>\n",
              "      <td></td>\n",
              "      <td>5883894</td>\n",
              "      <td></td>\n",
              "      <td></td>\n",
              "      <td>...</td>\n",
              "      <td></td>\n",
              "      <td>eOQt0GoOh3</td>\n",
              "      <td>AERks4l</td>\n",
              "      <td>SEuy</td>\n",
              "      <td>taul</td>\n",
              "      <td>1K8T</td>\n",
              "      <td>ffXs</td>\n",
              "      <td>NldASpP</td>\n",
              "      <td>y4g9XoZ</td>\n",
              "      <td>vynJTq9</td>\n",
              "      <td>smXZ</td>\n",
              "      <td>4bTR</td>\n",
              "      <td>9_Y1</td>\n",
              "      <td>MGOA</td>\n",
              "      <td>VpdQ</td>\n",
              "      <td>haYg</td>\n",
              "      <td>DHn_WUyBhW_whjA88g9bvA64_</td>\n",
              "      <td>kIsH</td>\n",
              "      <td></td>\n",
              "      <td>uKAI</td>\n",
              "      <td>L84s</td>\n",
              "      <td>UbxQ8lZ</td>\n",
              "      <td></td>\n",
              "      <td>TTGHfSv</td>\n",
              "      <td></td>\n",
              "      <td>pMWAe2U</td>\n",
              "      <td>bHR7</td>\n",
              "      <td>UYBR</td>\n",
              "      <td>FzaX</td>\n",
              "      <td>JFM1BiF</td>\n",
              "      <td>Al6ZaUT</td>\n",
              "      <td>NKv4yOc</td>\n",
              "      <td>jySVZNlOJy</td>\n",
              "      <td></td>\n",
              "      <td>kG3k</td>\n",
              "      <td>Qu4f</td>\n",
              "      <td>02N6s8f</td>\n",
              "      <td>ib5G6X1eUxUn6</td>\n",
              "      <td>am7c</td>\n",
              "      <td></td>\n",
              "    </tr>\n",
              "    <tr>\n",
              "      <th>3</th>\n",
              "      <td></td>\n",
              "      <td></td>\n",
              "      <td></td>\n",
              "      <td></td>\n",
              "      <td></td>\n",
              "      <td></td>\n",
              "      <td>0</td>\n",
              "      <td></td>\n",
              "      <td></td>\n",
              "      <td></td>\n",
              "      <td></td>\n",
              "      <td></td>\n",
              "      <td>0</td>\n",
              "      <td></td>\n",
              "      <td></td>\n",
              "      <td></td>\n",
              "      <td></td>\n",
              "      <td></td>\n",
              "      <td></td>\n",
              "      <td></td>\n",
              "      <td></td>\n",
              "      <td>0</td>\n",
              "      <td></td>\n",
              "      <td></td>\n",
              "      <td>0</td>\n",
              "      <td></td>\n",
              "      <td></td>\n",
              "      <td>22.08</td>\n",
              "      <td></td>\n",
              "      <td></td>\n",
              "      <td></td>\n",
              "      <td></td>\n",
              "      <td></td>\n",
              "      <td></td>\n",
              "      <td>0</td>\n",
              "      <td></td>\n",
              "      <td></td>\n",
              "      <td>0</td>\n",
              "      <td></td>\n",
              "      <td></td>\n",
              "      <td>...</td>\n",
              "      <td></td>\n",
              "      <td>jg69tYsGvO</td>\n",
              "      <td>RO12</td>\n",
              "      <td></td>\n",
              "      <td>taul</td>\n",
              "      <td>1K8T</td>\n",
              "      <td>ssAy</td>\n",
              "      <td>_ybO0dd</td>\n",
              "      <td>4hMlgkf58mhwh</td>\n",
              "      <td></td>\n",
              "      <td></td>\n",
              "      <td>W8mQ</td>\n",
              "      <td>9_Y1</td>\n",
              "      <td>YULl</td>\n",
              "      <td>VpdQ</td>\n",
              "      <td></td>\n",
              "      <td>me75fM6ugJ</td>\n",
              "      <td>kIsH</td>\n",
              "      <td></td>\n",
              "      <td>uKAI</td>\n",
              "      <td>Mtgm</td>\n",
              "      <td>NhsEn4L</td>\n",
              "      <td></td>\n",
              "      <td></td>\n",
              "      <td></td>\n",
              "      <td>kq0dQfu</td>\n",
              "      <td>eKej</td>\n",
              "      <td>UYBR</td>\n",
              "      <td>FzaX</td>\n",
              "      <td>L91KIiz</td>\n",
              "      <td>oslk</td>\n",
              "      <td>CE7uk3u</td>\n",
              "      <td>LM8l689qOp</td>\n",
              "      <td></td>\n",
              "      <td></td>\n",
              "      <td>FSa2</td>\n",
              "      <td>RAYp</td>\n",
              "      <td>F2FyR07IdsN7I</td>\n",
              "      <td></td>\n",
              "      <td></td>\n",
              "    </tr>\n",
              "    <tr>\n",
              "      <th>4</th>\n",
              "      <td></td>\n",
              "      <td></td>\n",
              "      <td></td>\n",
              "      <td></td>\n",
              "      <td></td>\n",
              "      <td>1029</td>\n",
              "      <td>7</td>\n",
              "      <td></td>\n",
              "      <td></td>\n",
              "      <td></td>\n",
              "      <td></td>\n",
              "      <td></td>\n",
              "      <td>3216</td>\n",
              "      <td></td>\n",
              "      <td></td>\n",
              "      <td></td>\n",
              "      <td></td>\n",
              "      <td></td>\n",
              "      <td></td>\n",
              "      <td></td>\n",
              "      <td>64</td>\n",
              "      <td>80</td>\n",
              "      <td></td>\n",
              "      <td>4</td>\n",
              "      <td>64</td>\n",
              "      <td></td>\n",
              "      <td></td>\n",
              "      <td>200</td>\n",
              "      <td></td>\n",
              "      <td></td>\n",
              "      <td></td>\n",
              "      <td></td>\n",
              "      <td></td>\n",
              "      <td></td>\n",
              "      <td>0</td>\n",
              "      <td></td>\n",
              "      <td></td>\n",
              "      <td>0</td>\n",
              "      <td></td>\n",
              "      <td></td>\n",
              "      <td>...</td>\n",
              "      <td></td>\n",
              "      <td>IXSgUHShse</td>\n",
              "      <td>RO12</td>\n",
              "      <td>SEuy</td>\n",
              "      <td>taul</td>\n",
              "      <td>1K8T</td>\n",
              "      <td>uNkU</td>\n",
              "      <td>EKR938I</td>\n",
              "      <td>ThrHXVS</td>\n",
              "      <td>0v21jmy</td>\n",
              "      <td>smXZ</td>\n",
              "      <td>xklU</td>\n",
              "      <td>9_Y1</td>\n",
              "      <td>RVjC</td>\n",
              "      <td>sJzTlal</td>\n",
              "      <td>6JmL</td>\n",
              "      <td>me75fM6ugJ</td>\n",
              "      <td>kIsH</td>\n",
              "      <td></td>\n",
              "      <td>uKAI</td>\n",
              "      <td>L84s</td>\n",
              "      <td>XfqtO3UdzaXh_</td>\n",
              "      <td></td>\n",
              "      <td>SJs3duv</td>\n",
              "      <td></td>\n",
              "      <td>11p4mKe</td>\n",
              "      <td>H3p7</td>\n",
              "      <td>UYBR</td>\n",
              "      <td>FzaX</td>\n",
              "      <td>OrnLfvc</td>\n",
              "      <td>oslk</td>\n",
              "      <td>1J2cvxe</td>\n",
              "      <td>LM8l689qOp</td>\n",
              "      <td></td>\n",
              "      <td>kG3k</td>\n",
              "      <td>FSa2</td>\n",
              "      <td>RAYp</td>\n",
              "      <td>F2FyR07IdsN7I</td>\n",
              "      <td>mj86</td>\n",
              "      <td></td>\n",
              "    </tr>\n",
              "  </tbody>\n",
              "</table>\n",
              "<p>5 rows × 230 columns</p>\n",
              "</div>"
            ],
            "text/plain": [
              "  Var1 Var2 Var3 Var4 Var5  ... Var226   Var227         Var228 Var229 Var230\n",
              "0                           ...   xb3V     RAYp  F2FyR07IdsN7I              \n",
              "1                           ...   fKCe     RAYp  F2FyR07IdsN7I              \n",
              "2                           ...   Qu4f  02N6s8f  ib5G6X1eUxUn6   am7c       \n",
              "3                           ...   FSa2     RAYp  F2FyR07IdsN7I              \n",
              "4                           ...   FSa2     RAYp  F2FyR07IdsN7I   mj86       \n",
              "\n",
              "[5 rows x 230 columns]"
            ]
          },
          "metadata": {
            "tags": []
          },
          "execution_count": 10
        }
      ]
    },
    {
      "cell_type": "code",
      "metadata": {
        "colab": {
          "base_uri": "https://localhost:8080/",
          "height": 204
        },
        "id": "49ap2wMPIJzZ",
        "outputId": "d312fb83-b03f-4ebd-8ab1-f7a54c534691"
      },
      "source": [
        "outcome.head()"
      ],
      "execution_count": 11,
      "outputs": [
        {
          "output_type": "execute_result",
          "data": {
            "text/html": [
              "<div>\n",
              "<style scoped>\n",
              "    .dataframe tbody tr th:only-of-type {\n",
              "        vertical-align: middle;\n",
              "    }\n",
              "\n",
              "    .dataframe tbody tr th {\n",
              "        vertical-align: top;\n",
              "    }\n",
              "\n",
              "    .dataframe thead th {\n",
              "        text-align: right;\n",
              "    }\n",
              "</style>\n",
              "<table border=\"1\" class=\"dataframe\">\n",
              "  <thead>\n",
              "    <tr style=\"text-align: right;\">\n",
              "      <th></th>\n",
              "      <th>0</th>\n",
              "    </tr>\n",
              "  </thead>\n",
              "  <tbody>\n",
              "    <tr>\n",
              "      <th>0</th>\n",
              "      <td>-1</td>\n",
              "    </tr>\n",
              "    <tr>\n",
              "      <th>1</th>\n",
              "      <td>1</td>\n",
              "    </tr>\n",
              "    <tr>\n",
              "      <th>2</th>\n",
              "      <td>-1</td>\n",
              "    </tr>\n",
              "    <tr>\n",
              "      <th>3</th>\n",
              "      <td>-1</td>\n",
              "    </tr>\n",
              "    <tr>\n",
              "      <th>4</th>\n",
              "      <td>-1</td>\n",
              "    </tr>\n",
              "  </tbody>\n",
              "</table>\n",
              "</div>"
            ],
            "text/plain": [
              "   0\n",
              "0 -1\n",
              "1  1\n",
              "2 -1\n",
              "3 -1\n",
              "4 -1"
            ]
          },
          "metadata": {
            "tags": []
          },
          "execution_count": 11
        }
      ]
    },
    {
      "cell_type": "code",
      "metadata": {
        "colab": {
          "base_uri": "https://localhost:8080/"
        },
        "id": "dcaeQF0gINnS",
        "outputId": "7868bc00-cd31-4316-a63f-6b2c33455cce"
      },
      "source": [
        "# verificando os valores únicos do dataset\r\n",
        "np.unique(outcome)"
      ],
      "execution_count": 13,
      "outputs": [
        {
          "output_type": "execute_result",
          "data": {
            "text/plain": [
              "array([-1,  1])"
            ]
          },
          "metadata": {
            "tags": []
          },
          "execution_count": 13
        }
      ]
    },
    {
      "cell_type": "markdown",
      "metadata": {
        "id": "uewj3ng5nUpv"
      },
      "source": [
        "### c. Identificando as variáveis numéricas e categóricas"
      ]
    },
    {
      "cell_type": "markdown",
      "metadata": {
        "id": "iiH-FOwRnVkN"
      },
      "source": [
        "### d. Verificando a consistência das variáveis"
      ]
    },
    {
      "cell_type": "markdown",
      "metadata": {
        "id": "kfXRcdMCDnj_"
      },
      "source": [
        "### e. Seleção de variáveis"
      ]
    },
    {
      "cell_type": "markdown",
      "metadata": {
        "id": "xziutPhNDnvR"
      },
      "source": [
        "#### Variáveis com muitos valores faltantes\r\n",
        "\r\n",
        "\r\n"
      ]
    },
    {
      "cell_type": "markdown",
      "metadata": {
        "id": "Duz4Blq6D5eu"
      },
      "source": [
        "#### Variáveis categóricas com muitas categorias\r\n",
        "\r\n",
        "\r\n"
      ]
    },
    {
      "cell_type": "markdown",
      "metadata": {
        "id": "Tl-1KxdtD5oR"
      },
      "source": [
        "#### Seleção de variáveis baseaa em árvores de decisão"
      ]
    },
    {
      "cell_type": "markdown",
      "metadata": {
        "id": "HGKeVngVDn05"
      },
      "source": [
        "### f. Dividindo os dados em dataset para treino e dataset para teste"
      ]
    },
    {
      "cell_type": "markdown",
      "metadata": {
        "id": "hLibbnltEWK8"
      },
      "source": [
        "#### Modelagem preliminar\r\n",
        "\r\n",
        "\r\n"
      ]
    },
    {
      "cell_type": "markdown",
      "metadata": {
        "id": "evOfuBr_Dn5R"
      },
      "source": [
        "### d. Verificando a consistência das variáveis"
      ]
    },
    {
      "cell_type": "markdown",
      "metadata": {
        "id": "O6DsBKSMnXiH"
      },
      "source": [
        ""
      ]
    }
  ]
}